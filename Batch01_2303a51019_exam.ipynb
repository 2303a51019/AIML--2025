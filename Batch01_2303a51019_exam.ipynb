{
  "nbformat": 4,
  "nbformat_minor": 0,
  "metadata": {
    "colab": {
      "provenance": [],
      "mount_file_id": "18xVKAchfBaan49V7VXX7H79NhfCie-eN",
      "authorship_tag": "ABX9TyMK+Brr1OyHnOI5EHp3Oc7u",
      "include_colab_link": true
    },
    "kernelspec": {
      "name": "python3",
      "display_name": "Python 3"
    },
    "language_info": {
      "name": "python"
    }
  },
  "cells": [
    {
      "cell_type": "markdown",
      "metadata": {
        "id": "view-in-github",
        "colab_type": "text"
      },
      "source": [
        "<a href=\"https://colab.research.google.com/github/2303a51019/AIML--2025/blob/main/Batch01_2303a51019_exam.ipynb\" target=\"_parent\"><img src=\"https://colab.research.google.com/assets/colab-badge.svg\" alt=\"Open In Colab\"/></a>"
      ]
    },
    {
      "cell_type": "markdown",
      "source": [
        "5. Prediction of Recipe reviews and feedback\n",
        "  1. Identify the recipppe most appreciated ?\n",
        "  2. List the top 5 recipe prepared the most.?\n",
        "  3. Identify the recipe with the most users delight ?\n",
        "  4. Name the recipe with highest reputation?\n",
        "  5. Most ordered recipes among the 100 recipes list?\n",
        "\n"
      ],
      "metadata": {
        "id": "dQGSlre_DLzE"
      }
    },
    {
      "cell_type": "markdown",
      "source": [
        "Data set : Recipe reviews and feedback"
      ],
      "metadata": {
        "id": "PW8W61ciEg0I"
      }
    },
    {
      "cell_type": "code",
      "source": [
        "import pandas as pd\n",
        "from textblob import TextBlob"
      ],
      "metadata": {
        "id": "lkgoeUV4KnO0"
      },
      "execution_count": 8,
      "outputs": []
    },
    {
      "cell_type": "code",
      "source": [
        "df = pd.read_csv('/Recipe Reviews and User Feedback Dataset.csv')"
      ],
      "metadata": {
        "id": "DCt2yX8rKs3k"
      },
      "execution_count": 9,
      "outputs": []
    },
    {
      "cell_type": "code",
      "source": [
        "print(df.columns)\n"
      ],
      "metadata": {
        "colab": {
          "base_uri": "https://localhost:8080/"
        },
        "id": "ibU094uJK9OM",
        "outputId": "db06d6d8-6035-4d10-f1ae-bf9032d76f65"
      },
      "execution_count": 14,
      "outputs": [
        {
          "output_type": "stream",
          "name": "stdout",
          "text": [
            "Index(['Unnamed: 0', 'recipe_number', 'recipe_code', 'recipe_name',\n",
            "       'comment_id', 'user_id', 'user_name', 'user_reputation', 'created_at',\n",
            "       'reply_count', 'thumbs_up', 'thumbs_down', 'stars', 'best_score',\n",
            "       'text'],\n",
            "      dtype='object')\n"
          ]
        }
      ]
    },
    {
      "cell_type": "code",
      "source": [
        "# Step 1: Check the column names\n",
        "print(df.columns)  # List all column names to see what they are\n",
        "\n",
        "# Step 2: If there are any spaces or issues, clean the column names\n",
        "df.columns = df.columns.str.strip()  # Remove extra spaces if necessary\n",
        "\n",
        "# Step 3: Ensure correct capitalization, for example:\n",
        "df.columns = df.columns.str.lower()  # Convert all column names to lowercase\n",
        "\n",
        "# Step 4: Check the column names again\n",
        "print(df.columns)\n",
        "\n",
        "# Group by recipe name and calculate the average stars (rating)\n",
        "average_ratings = df.groupby('recipe_name')['stars'].mean()\n",
        "\n",
        "# Print the result\n",
        "print(average_ratings)\n",
        "\n"
      ],
      "metadata": {
        "colab": {
          "base_uri": "https://localhost:8080/"
        },
        "id": "mQfN5oyHMjzk",
        "outputId": "f9968309-fb58-4660-c3eb-1d836abcc53f"
      },
      "execution_count": 25,
      "outputs": [
        {
          "output_type": "stream",
          "name": "stdout",
          "text": [
            "Index(['unnamed: 0', 'recipe_number', 'recipe_code', 'recipe_name',\n",
            "       'comment_id', 'user_id', 'user_name', 'user_reputation', 'created_at',\n",
            "       'reply_count', 'thumbs_up', 'thumbs_down', 'stars', 'best_score',\n",
            "       'text'],\n",
            "      dtype='object')\n",
            "Index(['unnamed: 0', 'recipe_number', 'recipe_code', 'recipe_name',\n",
            "       'comment_id', 'user_id', 'user_name', 'user_reputation', 'created_at',\n",
            "       'reply_count', 'thumbs_up', 'thumbs_down', 'stars', 'best_score',\n",
            "       'text'],\n",
            "      dtype='object')\n",
            "recipe_name\n",
            "Amish Breakfast Casserole    4.526627\n",
            "Apple Pie                    4.082988\n",
            "Asian Chicken Thighs         4.525641\n",
            "Bacon Macaroni Salad         4.291667\n",
            "Baked Mushroom Chicken       4.453947\n",
            "                               ...   \n",
            "Vegetarian Linguine          4.419355\n",
            "White Bean Chicken Chili     4.045113\n",
            "Winning Apple Crisp          3.927835\n",
            "Zucchini Cupcake             4.371747\n",
            "Zucchini Pizza Casserole     4.632530\n",
            "Name: stars, Length: 100, dtype: float64\n"
          ]
        }
      ]
    },
    {
      "cell_type": "code",
      "source": [
        "# Identify top 5 recipes by highest average rating (Most appreciated)\n",
        "top_5_recipes_by_rating = average_ratings.sort_values(ascending=False).head(5)"
      ],
      "metadata": {
        "id": "Rjbx0Xa5M2xE"
      },
      "execution_count": 28,
      "outputs": []
    },
    {
      "cell_type": "code",
      "source": [
        "from textblob import TextBlob\n",
        "\n",
        "# Perform sentiment analysis on the 'text' column (assuming 'text' contains the review comments)\n",
        "df['sentiment'] = df['text'].apply(lambda x: TextBlob(str(x)).sentiment.polarity)\n",
        "\n",
        "# Check the first few rows to ensure the sentiment column was added\n",
        "print(df[['recipe_name', 'text', 'sentiment']].head())\n"
      ],
      "metadata": {
        "colab": {
          "base_uri": "https://localhost:8080/"
        },
        "id": "Wnsr7mkbM93k",
        "outputId": "e844c89c-99e0-4b2c-8733-614cca161813"
      },
      "execution_count": 30,
      "outputs": [
        {
          "output_type": "stream",
          "name": "stdout",
          "text": [
            "          recipe_name                                               text  \\\n",
            "0  Creamy White Chili  I tweaked it a little, removed onions because ...   \n",
            "1  Creamy White Chili  Bush used to have a white chili bean and it ma...   \n",
            "2  Creamy White Chili  I have a very complicated white chicken chili ...   \n",
            "3  Creamy White Chili  In your introduction, you mentioned cream chee...   \n",
            "4  Creamy White Chili  Wonderful! I made this for a &#34;Chili/Stew&#...   \n",
            "\n",
            "   sentiment  \n",
            "0   0.306481  \n",
            "1   0.083333  \n",
            "2   0.129861  \n",
            "3   0.000000  \n",
            "4   0.233333  \n"
          ]
        }
      ]
    },
    {
      "cell_type": "code",
      "source": [
        "# Group by 'recipe_name' and calculate the average sentiment\n",
        "average_sentiment = df.groupby('recipe_name')['sentiment'].mean()\n",
        "\n",
        "# Sort by average sentiment to find the most delightful recipe\n",
        "most_delightful_recipe = average_sentiment.idxmax()\n",
        "\n",
        "# Print the most delightful recipe\n",
        "print(f\"The recipe with the highest average sentiment (most delightful): {most_delightful_recipe}\")\n"
      ],
      "metadata": {
        "colab": {
          "base_uri": "https://localhost:8080/"
        },
        "id": "u-dab42MNb4E",
        "outputId": "326e315a-1597-4196-bd1f-2b05379ee266"
      },
      "execution_count": 31,
      "outputs": [
        {
          "output_type": "stream",
          "name": "stdout",
          "text": [
            "The recipe with the highest average sentiment (most delightful): Zucchini Cupcake\n"
          ]
        }
      ]
    },
    {
      "cell_type": "code",
      "source": [
        "# Print the first few rows of the dataset to inspect the data\n",
        "print(df.head())\n",
        "\n",
        "# List all the column names to verify\n",
        "print(df.columns)\n"
      ],
      "metadata": {
        "colab": {
          "base_uri": "https://localhost:8080/"
        },
        "id": "srtCfIjrNfO-",
        "outputId": "4b09f62d-eabf-4597-8413-b42f5d97e754"
      },
      "execution_count": 32,
      "outputs": [
        {
          "output_type": "stream",
          "name": "stdout",
          "text": [
            "   unnamed: 0  recipe_number  recipe_code         recipe_name  \\\n",
            "0           0              1        14299  Creamy White Chili   \n",
            "1           1              1        14299  Creamy White Chili   \n",
            "2           2              1        14299  Creamy White Chili   \n",
            "3           3              1        14299  Creamy White Chili   \n",
            "4           4              1        14299  Creamy White Chili   \n",
            "\n",
            "                                        comment_id         user_id  \\\n",
            "0  sp_aUSaElGf_14299_c_2G3aneMRgRMZwXqIHmSdXSG1hEM  u_9iFLIhMa8QaG   \n",
            "1  sp_aUSaElGf_14299_c_2FsPC83HtzCsQAtOxlbL6RcaPbY  u_Lu6p25tmE77j   \n",
            "2  sp_aUSaElGf_14299_c_2FPrSGyTv7PQkZq37j92r9mYGkP  u_s0LwgpZ8Jsqq   \n",
            "3  sp_aUSaElGf_14299_c_2DzdSIgV9qNiuBaLoZ7JQaartoC  u_fqrybAdYjgjG   \n",
            "4  sp_aUSaElGf_14299_c_2DtZJuRQYeTFwXBoZRfRhBPEXjI  u_XXWKwVhKZD69   \n",
            "\n",
            "    user_name  user_reputation  created_at  reply_count  thumbs_up  \\\n",
            "0     Jeri326                1  1665619889            0          0   \n",
            "1     Mark467               50  1665277687            0          7   \n",
            "2  Barbara566               10  1664404557            0          3   \n",
            "3  jeansch123                1  1661787808            2          2   \n",
            "4    camper77               10  1664913823            1          7   \n",
            "\n",
            "   thumbs_down  stars  best_score  \\\n",
            "0            0      5         527   \n",
            "1            0      5         724   \n",
            "2            0      5         710   \n",
            "3            0      0         581   \n",
            "4            0      0         820   \n",
            "\n",
            "                                                text  sentiment  \n",
            "0  I tweaked it a little, removed onions because ...   0.306481  \n",
            "1  Bush used to have a white chili bean and it ma...   0.083333  \n",
            "2  I have a very complicated white chicken chili ...   0.129861  \n",
            "3  In your introduction, you mentioned cream chee...   0.000000  \n",
            "4  Wonderful! I made this for a &#34;Chili/Stew&#...   0.233333  \n",
            "Index(['unnamed: 0', 'recipe_number', 'recipe_code', 'recipe_name',\n",
            "       'comment_id', 'user_id', 'user_name', 'user_reputation', 'created_at',\n",
            "       'reply_count', 'thumbs_up', 'thumbs_down', 'stars', 'best_score',\n",
            "       'text', 'sentiment'],\n",
            "      dtype='object')\n"
          ]
        }
      ]
    },
    {
      "cell_type": "code",
      "source": [
        "from textblob import TextBlob\n",
        "\n",
        "# Step 1: Calculate sentiment score for each review based on the 'text' column\n",
        "df['sentiment'] = df['text'].apply(lambda x: TextBlob(str(x)).sentiment.polarity)\n",
        "\n",
        "# Step 2: Group by 'recipe_name' and calculate the average sentiment for each recipe\n",
        "sentiment_scores = df.groupby('recipe_name')['sentiment'].mean()\n",
        "\n",
        "# Step 3: Find the recipe with the highest average sentiment (Most delightful recipe)\n",
        "recipe_most_delight = sentiment_scores.idxmax()\n",
        "\n",
        "# Step 4: Print the recipe with the highest sentiment score\n",
        "print(f\"The recipe with the highest average sentiment (most delightful): {recipe_most_delight}\")\n",
        "\n",
        "# Optional: To view sentiment scores of the top few recipes\n",
        "print(sentiment_scores.sort_values(ascending=False).head())\n"
      ],
      "metadata": {
        "colab": {
          "base_uri": "https://localhost:8080/"
        },
        "id": "o164d5qXOOtT",
        "outputId": "e4798467-6591-48df-b3ee-81d9a7372edd"
      },
      "execution_count": 35,
      "outputs": [
        {
          "output_type": "stream",
          "name": "stdout",
          "text": [
            "The recipe with the highest average sentiment (most delightful): Zucchini Cupcake\n",
            "recipe_name\n",
            "Zucchini Cupcake                                     0.490949\n",
            "Special Banana Nut Bread                             0.488568\n",
            "Pumpkin Spice Cupcakes with Cream Cheese Frosting    0.434593\n",
            "Traditional Lasagna                                  0.433965\n",
            "Pumpkin Bread                                        0.427651\n",
            "Name: sentiment, dtype: float64\n"
          ]
        }
      ]
    },
    {
      "cell_type": "code",
      "source": [
        "# Step 1: Calculate the average rating for each recipe using the 'stars' column\n",
        "recipe_avg_rating = df.groupby('recipe_name')['stars'].mean()\n",
        "\n",
        "# Step 2: Find the recipe with the highest average rating (Most appreciated)\n",
        "recipe_most_appreciated = recipe_avg_rating.idxmax()\n",
        "\n",
        "# Step 3: Print the most appreciated recipe\n",
        "print(f\"The most appreciated recipe is: {recipe_most_appreciated}\")\n",
        "\n",
        "# Optional: To view the top 5 most appreciated recipes\n",
        "print(recipe_avg_rating.sort_values(ascending=False).head())\n"
      ],
      "metadata": {
        "colab": {
          "base_uri": "https://localhost:8080/"
        },
        "id": "4uMEUtqNOfV8",
        "outputId": "18abb4fa-1654-47ff-c733-d078d430f198"
      },
      "execution_count": 37,
      "outputs": [
        {
          "output_type": "stream",
          "name": "stdout",
          "text": [
            "The most appreciated recipe is: Rustic Italian Tortellini Soup\n",
            "recipe_name\n",
            "Rustic Italian Tortellini Soup    4.731343\n",
            "Corn Pudding                      4.711409\n",
            "Pumpkin Bread                     4.645349\n",
            "Macaroni Coleslaw                 4.633508\n",
            "Zucchini Pizza Casserole          4.632530\n",
            "Name: stars, dtype: float64\n"
          ]
        }
      ]
    },
    {
      "cell_type": "code",
      "source": [
        "# Step 1: Count the number of reviews (or orders) for each recipe\n",
        "top_5_recipes = df['recipe_name'].value_counts().nlargest(5)\n",
        "\n",
        "# Step 2: Print the top 5 most ordered recipes\n",
        "print(\"Top 5 most prepared (ordered) recipes:\")\n",
        "print(top_5_recipes)\n"
      ],
      "metadata": {
        "colab": {
          "base_uri": "https://localhost:8080/"
        },
        "id": "YrUrgD34OqLD",
        "outputId": "0a492a6b-83e7-4533-f4f1-322ef38ef7e6"
      },
      "execution_count": 39,
      "outputs": [
        {
          "output_type": "stream",
          "name": "stdout",
          "text": [
            "Top 5 most prepared (ordered) recipes:\n",
            "recipe_name\n",
            "Cheeseburger Soup         725\n",
            "Creamy White Chili        654\n",
            "Best Ever Banana Bread    509\n",
            "Enchilada Casser-Ole!     421\n",
            "Basic Homemade Bread      397\n",
            "Name: count, dtype: int64\n"
          ]
        }
      ]
    },
    {
      "cell_type": "code",
      "source": [
        "# Step 1: Group by 'recipe_name' and calculate the average sentiment score\n",
        "recipe_avg_sentiment = df.groupby('recipe_name')['sentiment'].mean()\n",
        "\n",
        "# Step 2: Print the average sentiment scores for each recipe\n",
        "print(recipe_avg_sentiment)\n"
      ],
      "metadata": {
        "colab": {
          "base_uri": "https://localhost:8080/"
        },
        "id": "mbyojpXjO3ab",
        "outputId": "514d1177-2d00-48ed-bd7c-5a20a2aee67c"
      },
      "execution_count": 41,
      "outputs": [
        {
          "output_type": "stream",
          "name": "stdout",
          "text": [
            "recipe_name\n",
            "Amish Breakfast Casserole    0.364113\n",
            "Apple Pie                    0.384309\n",
            "Asian Chicken Thighs         0.290729\n",
            "Bacon Macaroni Salad         0.336851\n",
            "Baked Mushroom Chicken       0.346473\n",
            "                               ...   \n",
            "Vegetarian Linguine          0.421523\n",
            "White Bean Chicken Chili     0.302985\n",
            "Winning Apple Crisp          0.400723\n",
            "Zucchini Cupcake             0.490949\n",
            "Zucchini Pizza Casserole     0.381682\n",
            "Name: sentiment, Length: 100, dtype: float64\n"
          ]
        }
      ]
    },
    {
      "cell_type": "code",
      "source": [
        "# Find the recipe with the highest average sentiment score (Most user delight)\n",
        "recipe_most_delight = recipe_avg_sentiment.idxmax()\n",
        "print(f\"The recipe with the most user delight is: {recipe_most_delight}\")"
      ],
      "metadata": {
        "colab": {
          "base_uri": "https://localhost:8080/"
        },
        "id": "bX0DMBooPEVk",
        "outputId": "dfcf321c-929c-40f6-c671-9ead03bee21b"
      },
      "execution_count": 42,
      "outputs": [
        {
          "output_type": "stream",
          "name": "stdout",
          "text": [
            "The recipe with the most user delight is: Zucchini Cupcake\n"
          ]
        }
      ]
    },
    {
      "cell_type": "code",
      "source": [
        "# Ensure 'Order_Count' column exists or calculate it (if not provided)\n",
        "# Here I'm assuming you're calculating it based on the number of reviews (or orders) for each recipe\n",
        "df['Order_Count'] = df.groupby('recipe_name')['recipe_name'].transform('count')\n",
        "\n",
        "# Step 1: Calculate the average rating for each recipe\n",
        "recipe_avg_rating = df.groupby('recipe_name')['stars'].mean()\n",
        "\n",
        "# Step 2: Calculate the total order count for each recipe (or use the 'Order_Count' column if it's available)\n",
        "order_count = df.groupby('recipe_name')['Order_Count'].sum()\n",
        "\n",
        "# Step 3: Calculate reputation based on both average rating and total order count\n",
        "recipe_reputation = recipe_avg_rating * order_count\n",
        "\n",
        "# Step 4: Print the recipe reputation\n",
        "print(recipe_reputation)\n",
        "\n",
        "# Optional: To get the recipe with the highest reputation\n",
        "top_recipe = recipe_reputation.idxmax()\n",
        "print(f\"The recipe with the highest reputation is: {top_recipe}\")\n"
      ],
      "metadata": {
        "colab": {
          "base_uri": "https://localhost:8080/"
        },
        "id": "FqspdKHnPK5k",
        "outputId": "9282eaab-3605-4fc1-84c5-ab3f951142b0"
      },
      "execution_count": 44,
      "outputs": [
        {
          "output_type": "stream",
          "name": "stdout",
          "text": [
            "recipe_name\n",
            "Amish Breakfast Casserole    517140.0\n",
            "Apple Pie                    237144.0\n",
            "Asian Chicken Thighs         110136.0\n",
            "Bacon Macaroni Salad          39552.0\n",
            "Baked Mushroom Chicken       102904.0\n",
            "                               ...   \n",
            "Vegetarian Linguine            4247.0\n",
            "White Bean Chicken Chili      71554.0\n",
            "Winning Apple Crisp          147828.0\n",
            "Zucchini Cupcake             316344.0\n",
            "Zucchini Pizza Casserole     510616.0\n",
            "Length: 100, dtype: float64\n",
            "The recipe with the highest reputation is: Cheeseburger Soup\n"
          ]
        }
      ]
    },
    {
      "cell_type": "code",
      "source": [
        "# Find the recipe with the highest reputation score\n",
        "recipe_highest_reputation = recipe_reputation.idxmax()\n",
        "print(f\"The recipe with the highest reputation is: {recipe_highest_reputation}\")"
      ],
      "metadata": {
        "colab": {
          "base_uri": "https://localhost:8080/"
        },
        "id": "1lVGS5HePV2c",
        "outputId": "a8dd8240-fcc0-4643-805b-00d1d6a5c455"
      },
      "execution_count": 45,
      "outputs": [
        {
          "output_type": "stream",
          "name": "stdout",
          "text": [
            "The recipe with the highest reputation is: Cheeseburger Soup\n"
          ]
        }
      ]
    },
    {
      "cell_type": "code",
      "source": [
        "# Strip any extra spaces from column names (if needed)\n",
        "df.columns = df.columns.str.strip()\n",
        "\n",
        "# Example: Group by 'Recipe_Name' and sum 'Order_Count' (adjust column names if needed)\n",
        "# Replace 'Recipe_Name' and 'Order_Count' with the actual column names in your DataFrame\n",
        "most_ordered_recipes = df.groupby('recipe_name')['Order_Count'].sum().nlargest(100)  # Changed 'Recipe_Name' to 'recipe_name' based on provided global variable\n",
        "\n",
        "# Display the top 100 most ordered recipes\n",
        "print(\"Most ordered recipes among the top 100:\")\n",
        "print(most_ordered_recipes)"
      ],
      "metadata": {
        "colab": {
          "base_uri": "https://localhost:8080/"
        },
        "id": "vjfxCGEHQbML",
        "outputId": "fe410c54-98b3-48b1-89b6-74f851274edf"
      },
      "execution_count": 51,
      "outputs": [
        {
          "output_type": "stream",
          "name": "stdout",
          "text": [
            "Most ordered recipes among the top 100:\n",
            "recipe_name\n",
            "Cheeseburger Soup           525625\n",
            "Creamy White Chili          427716\n",
            "Best Ever Banana Bread      259081\n",
            "Enchilada Casser-Ole!       177241\n",
            "Basic Homemade Bread        157609\n",
            "                             ...  \n",
            "Easy Peanut Butter Fudge      9216\n",
            "Blueberry French Toast        8100\n",
            "Caramel Heavenlies            7396\n",
            "Lime Chicken Tacos            7396\n",
            "Vegetarian Linguine            961\n",
            "Name: Order_Count, Length: 100, dtype: int64\n"
          ]
        }
      ]
    }
  ]
}